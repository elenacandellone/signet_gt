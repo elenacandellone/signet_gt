{
 "cells": [
  {
   "cell_type": "code",
   "execution_count": 54,
   "metadata": {},
   "outputs": [],
   "source": [
    "import graph_tool.all as gt\n",
    "import numpy as np\n",
    "import matplotlib.pyplot as plt\n",
    "\n",
    "\n",
    "\n",
    "import signet_gt.signed_network as sn"
   ]
  },
  {
   "cell_type": "code",
   "execution_count": 55,
   "metadata": {},
   "outputs": [
    {
     "name": "stdout",
     "output_type": "stream",
     "text": [
      "warning: no node IDs assigned, default indexes are used\n"
     ]
    }
   ],
   "source": [
    "# Example usage:\n",
    "graph_builder = sn.SignedNetwork()\n",
    "\n",
    "nodes = ['1', '2', '3']\n",
    "\n",
    "# Example 1: Create graph from adjacency matrix\n",
    "adj_matrix = np.array([[0, 1, -1], [-1, 0, 1], [1, -1, 0]])\n",
    "constructed_graph = graph_builder.graph_construction(adj_matrix, repre_type='adj', is_directed=False)\n",
    "\n",
    "# Example 2: Create graph from edge list\n",
    "edge_list = [(0, 1), (1, 2), (2, 0)]\n",
    "edge_weights = [1, -1, 1]\n",
    "#constructed_graph = graph_builder.graph_construction(edge_list, repre_type='edgelist', is_directed=False, weights=edge_weights)"
   ]
  },
  {
   "cell_type": "code",
   "execution_count": 44,
   "metadata": {},
   "outputs": [
    {
     "name": "stdout",
     "output_type": "stream",
     "text": [
      "(0.6666666666666666, 0.07216878364870323)\n"
     ]
    }
   ],
   "source": [
    "clust = gt.local_clustering(g)\n",
    "print(gt.vertex_average(g, clust))"
   ]
  },
  {
   "cell_type": "code",
   "execution_count": 45,
   "metadata": {},
   "outputs": [
    {
     "name": "stdout",
     "output_type": "stream",
     "text": [
      "1.7857142857142858\n"
     ]
    }
   ],
   "source": [
    "dist = gt.shortest_distance(g)\n",
    "ave_path_length = sum([sum(i) for i in dist])/(g.num_vertices()**2-g.num_vertices())\n",
    "print(ave_path_length)"
   ]
  },
  {
   "cell_type": "code",
   "execution_count": 47,
   "metadata": {},
   "outputs": [],
   "source": [
    "g = gt.Graph([(1,2), (1,8), (1,9), (1,7), (1,3), (1,6), (3,4), (4,6),(3,6), (6,5)], directed=False)\n",
    "g.remove_vertex(0)"
   ]
  },
  {
   "cell_type": "code",
   "execution_count": 48,
   "metadata": {},
   "outputs": [],
   "source": [
    "comm = g.new_vertex_property('int')\n",
    "comm.a = [0, 0, 1, 1, 1, 1, 0,0,0]"
   ]
  },
  {
   "cell_type": "code",
   "execution_count": 50,
   "metadata": {},
   "outputs": [
    {
     "data": {
      "text/plain": [
       "0.3"
      ]
     },
     "execution_count": 50,
     "metadata": {},
     "output_type": "execute_result"
    }
   ],
   "source": [
    "gt.modularity(g, comm)"
   ]
  },
  {
   "cell_type": "code",
   "execution_count": null,
   "metadata": {},
   "outputs": [],
   "source": []
  }
 ],
 "metadata": {
  "kernelspec": {
   "display_name": "signet_gt",
   "language": "python",
   "name": "python3"
  },
  "language_info": {
   "codemirror_mode": {
    "name": "ipython",
    "version": 3
   },
   "file_extension": ".py",
   "mimetype": "text/x-python",
   "name": "python",
   "nbconvert_exporter": "python",
   "pygments_lexer": "ipython3",
   "version": "3.11.4"
  },
  "orig_nbformat": 4
 },
 "nbformat": 4,
 "nbformat_minor": 2
}
